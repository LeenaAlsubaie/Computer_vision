{
 "cells": [
  {
   "cell_type": "code",
   "execution_count": 1,
   "id": "afd23353-f5b9-440a-b6f1-3ebd7a25ac79",
   "metadata": {},
   "outputs": [
    {
     "name": "stdout",
     "output_type": "stream",
     "text": [
      "Requirement already satisfied: opencv-python in c:\\users\\m7md-\\anaconda3\\lib\\site-packages (4.12.0.88)\n",
      "Requirement already satisfied: numpy<2.3.0,>=2 in c:\\users\\m7md-\\anaconda3\\lib\\site-packages (from opencv-python) (2.1.3)\n"
     ]
    }
   ],
   "source": [
    "!pip install opencv-python"
   ]
  },
  {
   "cell_type": "code",
   "execution_count": 2,
   "id": "03ef762b-31ab-422e-8569-37a44400c6a7",
   "metadata": {},
   "outputs": [],
   "source": [
    "import cv2"
   ]
  },
  {
   "cell_type": "code",
   "execution_count": 3,
   "id": "8975ab3a-b06b-432e-be28-a6e29e21bf8c",
   "metadata": {},
   "outputs": [],
   "source": [
    "image = cv2.imread(r\"C:\\Users\\M7md-\\Dropbox\\PC\\Downloads\\picture.jpeg\")"
   ]
  },
  {
   "cell_type": "code",
   "execution_count": 4,
   "id": "4b0881d2-0b0b-42ef-bd86-5f7c35f94b7a",
   "metadata": {},
   "outputs": [
    {
     "data": {
      "text/plain": [
       "array([[[198, 123,  61],\n",
       "        [199, 124,  62],\n",
       "        [197, 125,  61],\n",
       "        ...,\n",
       "        [197, 130,  73],\n",
       "        [198, 131,  74],\n",
       "        [200, 133,  76]],\n",
       "\n",
       "       [[198, 123,  61],\n",
       "        [198, 123,  61],\n",
       "        [197, 125,  61],\n",
       "        ...,\n",
       "        [197, 130,  73],\n",
       "        [197, 130,  73],\n",
       "        [200, 133,  76]],\n",
       "\n",
       "       [[197, 122,  60],\n",
       "        [197, 122,  60],\n",
       "        [196, 124,  60],\n",
       "        ...,\n",
       "        [196, 129,  72],\n",
       "        [196, 129,  72],\n",
       "        [199, 132,  75]],\n",
       "\n",
       "       ...,\n",
       "\n",
       "       [[129,  75,  52],\n",
       "        [133,  79,  56],\n",
       "        [135,  81,  58],\n",
       "        ...,\n",
       "        [131,  80,  64],\n",
       "        [132,  81,  65],\n",
       "        [132,  81,  65]],\n",
       "\n",
       "       [[129,  75,  52],\n",
       "        [133,  79,  56],\n",
       "        [135,  81,  58],\n",
       "        ...,\n",
       "        [131,  80,  64],\n",
       "        [132,  81,  65],\n",
       "        [132,  81,  65]],\n",
       "\n",
       "       [[129,  75,  52],\n",
       "        [133,  79,  56],\n",
       "        [135,  80,  59],\n",
       "        ...,\n",
       "        [131,  80,  64],\n",
       "        [132,  81,  65],\n",
       "        [132,  81,  65]]], dtype=uint8)"
      ]
     },
     "execution_count": 4,
     "metadata": {},
     "output_type": "execute_result"
    }
   ],
   "source": [
    "image"
   ]
  },
  {
   "cell_type": "code",
   "execution_count": 62,
   "id": "5dc09078-fd41-4534-9495-5e25ac4d7443",
   "metadata": {},
   "outputs": [
    {
     "data": {
      "text/plain": [
       "-1"
      ]
     },
     "execution_count": 62,
     "metadata": {},
     "output_type": "execute_result"
    }
   ],
   "source": [
    "cv2.imshow(\"Sakura\",image)\n",
    "cv2.waitKey(0)"
   ]
  },
  {
   "cell_type": "code",
   "execution_count": 64,
   "id": "19a3035d-dad8-4d0a-acca-347c859876c9",
   "metadata": {},
   "outputs": [],
   "source": [
    "image=cv2.resize(image,(500,400))"
   ]
  },
  {
   "cell_type": "code",
   "execution_count": null,
   "id": "ae717ea3-dfc3-4fa5-9122-1bacc3d661d5",
   "metadata": {},
   "outputs": [],
   "source": [
    "cv2.imshow(\"Sakura\",image)\n",
    "cv2.waitKey(0)"
   ]
  },
  {
   "cell_type": "code",
   "execution_count": 65,
   "id": "85babaf9-f658-494b-abb4-1cc2341a1b99",
   "metadata": {},
   "outputs": [],
   "source": [
    "image=cv2.putText(image,\"HASH PLUS IS THE BEST\",(112,169),cv2.FONT_HERSHEY_COMPLEX_SMALL, 1,(128,0,0),2)"
   ]
  },
  {
   "cell_type": "code",
   "execution_count": 66,
   "id": "8af74fbe-03dc-49c3-8e7b-1fb17e4dd8d1",
   "metadata": {},
   "outputs": [],
   "source": [
    "image=cv2.rectangle(image, (106,150), (430,175) , (128,0,0), 2) # () (طول,عرض الصورة)"
   ]
  },
  {
   "cell_type": "code",
   "execution_count": 63,
   "id": "0dcccd6c-76bc-4adc-b2c7-735a16fd7b0b",
   "metadata": {},
   "outputs": [],
   "source": [
    "image = cv2.imread(r\"C:\\Users\\M7md-\\Dropbox\\PC\\Downloads\\picture.jpeg\")"
   ]
  },
  {
   "cell_type": "code",
   "execution_count": null,
   "id": "52f0b0f5-04d0-40e4-b805-121582583860",
   "metadata": {},
   "outputs": [],
   "source": []
  }
 ],
 "metadata": {
  "kernelspec": {
   "display_name": "Python [conda env:base] *",
   "language": "python",
   "name": "conda-base-py"
  },
  "language_info": {
   "codemirror_mode": {
    "name": "ipython",
    "version": 3
   },
   "file_extension": ".py",
   "mimetype": "text/x-python",
   "name": "python",
   "nbconvert_exporter": "python",
   "pygments_lexer": "ipython3",
   "version": "3.13.5"
  }
 },
 "nbformat": 4,
 "nbformat_minor": 5
}
