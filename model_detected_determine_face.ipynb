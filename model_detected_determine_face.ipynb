{
 "cells": [
  {
   "cell_type": "code",
   "execution_count": 1,
   "id": "640e2900-f10c-443b-b481-32dae6d1c19c",
   "metadata": {},
   "outputs": [],
   "source": [
    "import numpy as np\n",
    "import cv2"
   ]
  },
  {
   "cell_type": "code",
   "execution_count": 2,
   "id": "2db45eda-7e03-49f7-8ee1-cdfbd1317cf3",
   "metadata": {},
   "outputs": [],
   "source": [
    "picture=cv2.imread(r\"C:\\Users\\M7md-\\Dropbox\\PC\\Downloads\\task3.png\")"
   ]
  },
  {
   "cell_type": "code",
   "execution_count": 3,
   "id": "ee4e4b6e-ba24-44ef-b64e-20394921a3fe",
   "metadata": {},
   "outputs": [],
   "source": [
    "model=cv2.CascadeClassifier(cv2.data.haarcascades+'haarcascade_frontalface_default.xml')"
   ]
  },
  {
   "cell_type": "code",
   "execution_count": 4,
   "id": "4723ef88-a8f2-4c22-8e55-7f817f4b9320",
   "metadata": {},
   "outputs": [],
   "source": [
    "gray=cv2.cvtColor(picture,cv2.COLOR_BGR2GRAY)"
   ]
  },
  {
   "cell_type": "code",
   "execution_count": 5,
   "id": "1245a2ed-5e84-419c-b56f-ade362cd676e",
   "metadata": {},
   "outputs": [],
   "source": [
    "faces=model.detectMultiScale(gray)"
   ]
  },
  {
   "cell_type": "code",
   "execution_count": null,
   "id": "d67657e9-4b54-4141-899f-91a17657476f",
   "metadata": {},
   "outputs": [],
   "source": [
    "for(x,y,w,h)in faces:\n",
    "    cv2.rectangle(picture,(x,y),(x+w,y+h),(255,255,100),2)\n",
    "cv2.imshow('Detected Face',picture)\n",
    "cv2.waitKey(0)\n",
    "cv2.destroyAllWindows()"
   ]
  },
  {
   "cell_type": "code",
   "execution_count": 35,
   "id": "a82ee0ef-f54d-42fa-b814-640cb1e04ee7",
   "metadata": {},
   "outputs": [],
   "source": []
  },
  {
   "cell_type": "code",
   "execution_count": null,
   "id": "5959cf6a-5b57-4ddd-8c58-6d180c7bd8ea",
   "metadata": {},
   "outputs": [],
   "source": []
  },
  {
   "cell_type": "code",
   "execution_count": null,
   "id": "37642abb-d3b1-49ee-a0ad-6291167e43fd",
   "metadata": {},
   "outputs": [],
   "source": []
  }
 ],
 "metadata": {
  "kernelspec": {
   "display_name": "Python [conda env:base] *",
   "language": "python",
   "name": "conda-base-py"
  },
  "language_info": {
   "codemirror_mode": {
    "name": "ipython",
    "version": 3
   },
   "file_extension": ".py",
   "mimetype": "text/x-python",
   "name": "python",
   "nbconvert_exporter": "python",
   "pygments_lexer": "ipython3",
   "version": "3.13.5"
  }
 },
 "nbformat": 4,
 "nbformat_minor": 5
}
